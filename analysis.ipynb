{
 "cells": [
  {
   "cell_type": "code",
   "execution_count": 138,
   "metadata": {},
   "outputs": [],
   "source": [
    "from collections import Counter\n",
    "import re\n",
    "import dill\n",
    "import numpy as np\n",
    "import pandas as pd\n",
    "import sklearn"
   ]
  },
  {
   "cell_type": "code",
   "execution_count": 350,
   "metadata": {},
   "outputs": [],
   "source": [
    "# with open('data/{}_articles.pkl'.format('left'), 'rb') as f:\n",
    "#     data = dill.load(f)\n",
    "# data[0]['keywords']\n",
    "\n",
    "def get_key_words(name):\n",
    "    with open('data/{}_articles.pkl'.format(name), 'rb') as f:\n",
    "        data = dill.load(f)\n",
    "    key_words = []\n",
    "    for article in data:\n",
    "        kws = article['keywords']\n",
    "        if 'trump' in kws:\n",
    "            current_kws = {}\n",
    "            for kw in kws:\n",
    "                current_kws[kw] = 1\n",
    "            key_words.append(current_kws)\n",
    "    return key_words\n",
    "\n",
    "kw_freq_dicts = []\n",
    "kw_freq_dicts += get_key_words('left')\n",
    "kw_freq_dicts += get_key_words('leftcenter')\n",
    "kw_freq_dicts += get_key_words('right')\n",
    "kw_freq_dicts += get_key_words('right-center')"
   ]
  },
  {
   "cell_type": "code",
   "execution_count": 352,
   "metadata": {},
   "outputs": [
    {
     "data": {
      "text/plain": [
       "286"
      ]
     },
     "execution_count": 352,
     "metadata": {},
     "output_type": "execute_result"
    }
   ],
   "source": [
    "len(kw_freq_dicts)"
   ]
  },
  {
   "cell_type": "code",
   "execution_count": 347,
   "metadata": {},
   "outputs": [],
   "source": [
    "def get_freq_dicts(name):\n",
    "    with open('data/{}_articles.pkl'.format(name), 'rb') as f:\n",
    "        data = dill.load(f)\n",
    "\n",
    "    freq_dicts = []\n",
    "    for article in data:\n",
    "        if 'trump' in article['text']:\n",
    "            word_list = re.split(r\"[\\s\\.,\\?]+\",article['text'])\n",
    "            freq_list = Counter(word_list).most_common()\n",
    "            freq_dict = { k: v for k,v in freq_list}\n",
    "            freq_dicts.append(freq_dict)\n",
    "    return freq_dicts\n",
    "    \n",
    "freq_dicts = []\n",
    "freq_dicts += get_freq_dicts('left')\n",
    "freq_dicts += get_freq_dicts('leftcenter')\n",
    "freq_dicts += get_freq_dicts('right')\n",
    "freq_dicts += get_freq_dicts('right-center')"
   ]
  },
  {
   "cell_type": "code",
   "execution_count": 353,
   "metadata": {},
   "outputs": [],
   "source": [
    "def merge_freqs(dicts):\n",
    "    all_words = {}\n",
    "    for d in dicts:\n",
    "        for word in d:\n",
    "            if word in all_words:\n",
    "                all_words[word] += 1\n",
    "            else:\n",
    "                all_words[word] = 1\n",
    "    \n",
    "    return pd.DataFrame.from_dict({'word': list(all_words.keys()), 'freq': list(all_words.values())})"
   ]
  },
  {
   "cell_type": "code",
   "execution_count": 354,
   "metadata": {},
   "outputs": [],
   "source": [
    "def get_vocab(freq_dicts):\n",
    "    merged_df = merge_freqs(freq_dicts)\n",
    "    df = merged_df.sort_values(by=['freq'], ascending=False)\n",
    "    df = df.reset_index(drop=True)\n",
    "    df = df[~df['word'].str.contains('\\\"')]\n",
    "    df = df[~df['word'].str.contains('\\'')]\n",
    "    df = df[~df['word'].str.contains('!')]\n",
    "    df = df[~df['word'].str.contains('\\(')]\n",
    "    df = df[~df['word'].str.contains('\\)')]\n",
    "    df = df[~df['word'].str.contains('-')]\n",
    "    vocab = list(df.head(10000).word.values)\n",
    "    return vocab"
   ]
  },
  {
   "cell_type": "code",
   "execution_count": 337,
   "metadata": {},
   "outputs": [],
   "source": [
    "vocab = get_vocab(freq_dicts)"
   ]
  },
  {
   "cell_type": "code",
   "execution_count": 357,
   "metadata": {},
   "outputs": [],
   "source": [
    "kw_vocab = get_vocab(kw_freq_dicts)"
   ]
  },
  {
   "cell_type": "code",
   "execution_count": 338,
   "metadata": {},
   "outputs": [],
   "source": [
    "def convert_to_vector(freq_dicts, vocab):\n",
    "    vocab_dict = { v: i for i, v in enumerate(vocab) }\n",
    "    data = np.zeros((len(freq_dicts), len(vocab)))\n",
    "    for i, d in enumerate(freq_dicts):\n",
    "        for k, v in d.items():\n",
    "            try:\n",
    "                idx = vocab_dict[k]\n",
    "                data[i][idx] = v\n",
    "            except:\n",
    "                pass\n",
    "        data[i] = data[i] / np.sum(data[i])\n",
    "    data = data[~np.isnan(data).any(axis=1)]\n",
    "    return data"
   ]
  },
  {
   "cell_type": "code",
   "execution_count": 339,
   "metadata": {},
   "outputs": [],
   "source": [
    "left_center_vec = convert_to_vector(get_freq_dicts('leftcenter'), vocab)\n",
    "right_center_vec = convert_to_vector(get_freq_dicts('right-center'), vocab)\n",
    "left_vec = convert_to_vector(get_freq_dicts('left'), vocab)\n",
    "right_vec = convert_to_vector(get_freq_dicts('right'), vocab)"
   ]
  },
  {
   "cell_type": "code",
   "execution_count": 358,
   "metadata": {},
   "outputs": [],
   "source": [
    "left_center_kw = convert_to_vector(get_key_words('leftcenter'), kw_vocab)\n",
    "right_center_kw = convert_to_vector(get_key_words('right-center'), kw_vocab)\n",
    "left_kw = convert_to_vector(get_key_words('left'), kw_vocab)\n",
    "right_kw = convert_to_vector(get_key_words('right'), kw_vocab)"
   ]
  },
  {
   "cell_type": "code",
   "execution_count": 340,
   "metadata": {},
   "outputs": [],
   "source": [
    "X = np.vstack((left_center_vec, right_center_vec))\n",
    "y = np.hstack((np.zeros(len(left_center_vec)), np.ones(len(right_center_vec))))\n",
    "\n",
    "# X = np.vstack((left_vec, right_vec))\n",
    "# y = np.hstack((np.zeros(len(left_vec)), np.ones(len(right_vec))))"
   ]
  },
  {
   "cell_type": "code",
   "execution_count": 363,
   "metadata": {},
   "outputs": [],
   "source": [
    "# X = np.vstack((left_center_kw, right_center_kw))\n",
    "# y = np.hstack((np.zeros(len(left_center_kw)), np.ones(len(right_center_kw))))\n",
    "\n",
    "X = np.vstack((left_kw, right_kw))\n",
    "y = np.hstack((np.zeros(len(left_kw)), np.ones(len(right_kw))))"
   ]
  },
  {
   "cell_type": "code",
   "execution_count": 364,
   "metadata": {},
   "outputs": [],
   "source": [
    "from sklearn.model_selection import train_test_split\n",
    "X_train, X_test, y_train, y_test = train_test_split(X, y, test_size=0.2)"
   ]
  },
  {
   "cell_type": "code",
   "execution_count": 365,
   "metadata": {},
   "outputs": [
    {
     "name": "stderr",
     "output_type": "stream",
     "text": [
      "/usr/local/lib/python3.7/site-packages/sklearn/linear_model/logistic.py:433: FutureWarning: Default solver will be changed to 'lbfgs' in 0.22. Specify a solver to silence this warning.\n",
      "  FutureWarning)\n"
     ]
    },
    {
     "data": {
      "text/plain": [
       "LogisticRegression(C=1.0, class_weight=None, dual=False, fit_intercept=True,\n",
       "          intercept_scaling=1, max_iter=100, multi_class='warn',\n",
       "          n_jobs=None, penalty='l2', random_state=None, solver='warn',\n",
       "          tol=0.0001, verbose=0, warm_start=False)"
      ]
     },
     "execution_count": 365,
     "metadata": {},
     "output_type": "execute_result"
    }
   ],
   "source": [
    "from sklearn.linear_model import LogisticRegression\n",
    "\n",
    "clf = LogisticRegression()\n",
    "clf.fit(X_train, y_train)"
   ]
  },
  {
   "cell_type": "code",
   "execution_count": 367,
   "metadata": {},
   "outputs": [
    {
     "name": "stdout",
     "output_type": "stream",
     "text": [
      "              precision    recall  f1-score   support\n",
      "\n",
      "        left       0.00      0.00      0.00        65\n",
      "       right       0.55      1.00      0.71        79\n",
      "\n",
      "   micro avg       0.55      0.55      0.55       144\n",
      "   macro avg       0.27      0.50      0.35       144\n",
      "weighted avg       0.30      0.55      0.39       144\n",
      "\n"
     ]
    },
    {
     "name": "stderr",
     "output_type": "stream",
     "text": [
      "/usr/local/lib/python3.7/site-packages/sklearn/metrics/classification.py:1143: UndefinedMetricWarning: Precision and F-score are ill-defined and being set to 0.0 in labels with no predicted samples.\n",
      "  'precision', 'predicted', average, warn_for)\n"
     ]
    }
   ],
   "source": [
    "y_pred = clf.predict(X_train)\n",
    "print(classification_report(y_train, y_pred, target_names=['left', 'right']))"
   ]
  },
  {
   "cell_type": "code",
   "execution_count": 368,
   "metadata": {},
   "outputs": [
    {
     "name": "stdout",
     "output_type": "stream",
     "text": [
      "              precision    recall  f1-score   support\n",
      "\n",
      "        left       0.00      0.00      0.00        19\n",
      "       right       0.47      1.00      0.64        17\n",
      "\n",
      "   micro avg       0.47      0.47      0.47        36\n",
      "   macro avg       0.24      0.50      0.32        36\n",
      "weighted avg       0.22      0.47      0.30        36\n",
      "\n"
     ]
    },
    {
     "name": "stderr",
     "output_type": "stream",
     "text": [
      "/usr/local/lib/python3.7/site-packages/sklearn/metrics/classification.py:1143: UndefinedMetricWarning: Precision and F-score are ill-defined and being set to 0.0 in labels with no predicted samples.\n",
      "  'precision', 'predicted', average, warn_for)\n"
     ]
    }
   ],
   "source": [
    "from sklearn.metrics import classification_report\n",
    "\n",
    "y_pred = clf.predict(X_test)\n",
    "print(classification_report(y_test, y_pred, target_names=['left', 'right']))"
   ]
  },
  {
   "cell_type": "code",
   "execution_count": 329,
   "metadata": {
    "scrolled": true
   },
   "outputs": [],
   "source": [
    "rank = np.argsort(clf.coef_)[0]\n",
    "# for i in rank[:20]:\n",
    "#     print(kw_vocab[i])"
   ]
  },
  {
   "cell_type": "code",
   "execution_count": 331,
   "metadata": {},
   "outputs": [
    {
     "data": {
      "text/html": [
       "<div>\n",
       "<style scoped>\n",
       "    .dataframe tbody tr th:only-of-type {\n",
       "        vertical-align: middle;\n",
       "    }\n",
       "\n",
       "    .dataframe tbody tr th {\n",
       "        vertical-align: top;\n",
       "    }\n",
       "\n",
       "    .dataframe thead th {\n",
       "        text-align: right;\n",
       "    }\n",
       "</style>\n",
       "<table border=\"1\" class=\"dataframe\">\n",
       "  <thead>\n",
       "    <tr style=\"text-align: right;\">\n",
       "      <th></th>\n",
       "      <th>word</th>\n",
       "      <th>freq</th>\n",
       "    </tr>\n",
       "  </thead>\n",
       "  <tbody>\n",
       "    <tr>\n",
       "      <th>7</th>\n",
       "      <td>trump</td>\n",
       "      <td>84</td>\n",
       "    </tr>\n",
       "    <tr>\n",
       "      <th>12</th>\n",
       "      <td>president</td>\n",
       "      <td>27</td>\n",
       "    </tr>\n",
       "    <tr>\n",
       "      <th>21</th>\n",
       "      <td>trumps</td>\n",
       "      <td>16</td>\n",
       "    </tr>\n",
       "    <tr>\n",
       "      <th>69</th>\n",
       "      <td>shutdown</td>\n",
       "      <td>15</td>\n",
       "    </tr>\n",
       "    <tr>\n",
       "      <th>71</th>\n",
       "      <td>workers</td>\n",
       "      <td>13</td>\n",
       "    </tr>\n",
       "    <tr>\n",
       "      <th>53</th>\n",
       "      <td>wall</td>\n",
       "      <td>12</td>\n",
       "    </tr>\n",
       "    <tr>\n",
       "      <th>313</th>\n",
       "      <td>economy</td>\n",
       "      <td>12</td>\n",
       "    </tr>\n",
       "    <tr>\n",
       "      <th>52</th>\n",
       "      <td>border</td>\n",
       "      <td>11</td>\n",
       "    </tr>\n",
       "    <tr>\n",
       "      <th>50</th>\n",
       "      <td>national</td>\n",
       "      <td>11</td>\n",
       "    </tr>\n",
       "    <tr>\n",
       "      <th>263</th>\n",
       "      <td>donald</td>\n",
       "      <td>11</td>\n",
       "    </tr>\n",
       "    <tr>\n",
       "      <th>471</th>\n",
       "      <td>damage</td>\n",
       "      <td>10</td>\n",
       "    </tr>\n",
       "    <tr>\n",
       "      <th>63</th>\n",
       "      <td>federal</td>\n",
       "      <td>10</td>\n",
       "    </tr>\n",
       "    <tr>\n",
       "      <th>473</th>\n",
       "      <td>work</td>\n",
       "      <td>9</td>\n",
       "    </tr>\n",
       "    <tr>\n",
       "      <th>66</th>\n",
       "      <td>employees</td>\n",
       "      <td>9</td>\n",
       "    </tr>\n",
       "    <tr>\n",
       "      <th>55</th>\n",
       "      <td>emergency</td>\n",
       "      <td>8</td>\n",
       "    </tr>\n",
       "    <tr>\n",
       "      <th>472</th>\n",
       "      <td>mach</td>\n",
       "      <td>8</td>\n",
       "    </tr>\n",
       "    <tr>\n",
       "      <th>469</th>\n",
       "      <td>perkins</td>\n",
       "      <td>8</td>\n",
       "    </tr>\n",
       "    <tr>\n",
       "      <th>468</th>\n",
       "      <td>dampen</td>\n",
       "      <td>8</td>\n",
       "    </tr>\n",
       "    <tr>\n",
       "      <th>467</th>\n",
       "      <td>hurt</td>\n",
       "      <td>8</td>\n",
       "    </tr>\n",
       "    <tr>\n",
       "      <th>474</th>\n",
       "      <td>continues</td>\n",
       "      <td>8</td>\n",
       "    </tr>\n",
       "  </tbody>\n",
       "</table>\n",
       "</div>"
      ],
      "text/plain": [
       "          word  freq\n",
       "7        trump    84\n",
       "12   president    27\n",
       "21      trumps    16\n",
       "69    shutdown    15\n",
       "71     workers    13\n",
       "53        wall    12\n",
       "313    economy    12\n",
       "52      border    11\n",
       "50    national    11\n",
       "263     donald    11\n",
       "471     damage    10\n",
       "63     federal    10\n",
       "473       work     9\n",
       "66   employees     9\n",
       "55   emergency     8\n",
       "472       mach     8\n",
       "469    perkins     8\n",
       "468     dampen     8\n",
       "467       hurt     8\n",
       "474  continues     8"
      ]
     },
     "execution_count": 331,
     "metadata": {},
     "output_type": "execute_result"
    }
   ],
   "source": [
    "merge_freqs(get_key_words('left')).sort_values(by=['freq'], ascending=False).head(20)"
   ]
  },
  {
   "cell_type": "code",
   "execution_count": 332,
   "metadata": {},
   "outputs": [
    {
     "data": {
      "text/html": [
       "<div>\n",
       "<style scoped>\n",
       "    .dataframe tbody tr th:only-of-type {\n",
       "        vertical-align: middle;\n",
       "    }\n",
       "\n",
       "    .dataframe tbody tr th {\n",
       "        vertical-align: top;\n",
       "    }\n",
       "\n",
       "    .dataframe thead th {\n",
       "        text-align: right;\n",
       "    }\n",
       "</style>\n",
       "<table border=\"1\" class=\"dataframe\">\n",
       "  <thead>\n",
       "    <tr style=\"text-align: right;\">\n",
       "      <th></th>\n",
       "      <th>word</th>\n",
       "      <th>freq</th>\n",
       "    </tr>\n",
       "  </thead>\n",
       "  <tbody>\n",
       "    <tr>\n",
       "      <th>9</th>\n",
       "      <td>trump</td>\n",
       "      <td>96</td>\n",
       "    </tr>\n",
       "    <tr>\n",
       "      <th>24</th>\n",
       "      <td>president</td>\n",
       "      <td>50</td>\n",
       "    </tr>\n",
       "    <tr>\n",
       "      <th>19</th>\n",
       "      <td>trumps</td>\n",
       "      <td>22</td>\n",
       "    </tr>\n",
       "    <tr>\n",
       "      <th>271</th>\n",
       "      <td>millennials</td>\n",
       "      <td>19</td>\n",
       "    </tr>\n",
       "    <tr>\n",
       "      <th>76</th>\n",
       "      <td>white</td>\n",
       "      <td>12</td>\n",
       "    </tr>\n",
       "    <tr>\n",
       "      <th>18</th>\n",
       "      <td>american</td>\n",
       "      <td>10</td>\n",
       "    </tr>\n",
       "    <tr>\n",
       "      <th>3</th>\n",
       "      <td>state</td>\n",
       "      <td>10</td>\n",
       "    </tr>\n",
       "    <tr>\n",
       "      <th>78</th>\n",
       "      <td>house</td>\n",
       "      <td>10</td>\n",
       "    </tr>\n",
       "    <tr>\n",
       "      <th>171</th>\n",
       "      <td>jobs</td>\n",
       "      <td>9</td>\n",
       "    </tr>\n",
       "    <tr>\n",
       "      <th>79</th>\n",
       "      <td>tax</td>\n",
       "      <td>9</td>\n",
       "    </tr>\n",
       "    <tr>\n",
       "      <th>336</th>\n",
       "      <td>administration</td>\n",
       "      <td>8</td>\n",
       "    </tr>\n",
       "    <tr>\n",
       "      <th>333</th>\n",
       "      <td>young</td>\n",
       "      <td>8</td>\n",
       "    </tr>\n",
       "    <tr>\n",
       "      <th>164</th>\n",
       "      <td>education</td>\n",
       "      <td>8</td>\n",
       "    </tr>\n",
       "    <tr>\n",
       "      <th>220</th>\n",
       "      <td>video</td>\n",
       "      <td>8</td>\n",
       "    </tr>\n",
       "    <tr>\n",
       "      <th>137</th>\n",
       "      <td>red</td>\n",
       "      <td>7</td>\n",
       "    </tr>\n",
       "    <tr>\n",
       "      <th>12</th>\n",
       "      <td>true</td>\n",
       "      <td>7</td>\n",
       "    </tr>\n",
       "    <tr>\n",
       "      <th>161</th>\n",
       "      <td>students</td>\n",
       "      <td>7</td>\n",
       "    </tr>\n",
       "    <tr>\n",
       "      <th>261</th>\n",
       "      <td>reform</td>\n",
       "      <td>6</td>\n",
       "    </tr>\n",
       "    <tr>\n",
       "      <th>295</th>\n",
       "      <td>plan</td>\n",
       "      <td>6</td>\n",
       "    </tr>\n",
       "    <tr>\n",
       "      <th>303</th>\n",
       "      <td>federal</td>\n",
       "      <td>6</td>\n",
       "    </tr>\n",
       "  </tbody>\n",
       "</table>\n",
       "</div>"
      ],
      "text/plain": [
       "               word  freq\n",
       "9             trump    96\n",
       "24        president    50\n",
       "19           trumps    22\n",
       "271     millennials    19\n",
       "76            white    12\n",
       "18         american    10\n",
       "3             state    10\n",
       "78            house    10\n",
       "171            jobs     9\n",
       "79              tax     9\n",
       "336  administration     8\n",
       "333           young     8\n",
       "164       education     8\n",
       "220           video     8\n",
       "137             red     7\n",
       "12             true     7\n",
       "161        students     7\n",
       "261          reform     6\n",
       "295            plan     6\n",
       "303         federal     6"
      ]
     },
     "execution_count": 332,
     "metadata": {},
     "output_type": "execute_result"
    }
   ],
   "source": [
    "merge_freqs(get_key_words('right')).sort_values(by=['freq'], ascending=False).head(20)"
   ]
  },
  {
   "cell_type": "code",
   "execution_count": 314,
   "metadata": {},
   "outputs": [
    {
     "name": "stdout",
     "output_type": "stream",
     "text": [
      "washington\n",
      "shows\n",
      "test\n",
      "wwwwashingtontimescom\n",
      "quiz\n",
      "challenge\n",
      "sharescan\n",
      "songs\n",
      "remember\n",
      "television\n"
     ]
    }
   ],
   "source": [
    "for i in rank[::-1][:10]:\n",
    "    print(kw_vocab[i])"
   ]
  }
 ],
 "metadata": {
  "kernelspec": {
   "display_name": "Python 3",
   "language": "python",
   "name": "python3"
  },
  "language_info": {
   "codemirror_mode": {
    "name": "ipython",
    "version": 3
   },
   "file_extension": ".py",
   "mimetype": "text/x-python",
   "name": "python",
   "nbconvert_exporter": "python",
   "pygments_lexer": "ipython3",
   "version": "3.7.2"
  }
 },
 "nbformat": 4,
 "nbformat_minor": 2
}
