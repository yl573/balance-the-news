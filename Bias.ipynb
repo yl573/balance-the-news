{
 "cells": [
  {
   "cell_type": "code",
   "execution_count": null,
   "metadata": {},
   "outputs": [],
   "source": [
    "!pip3 install newspaper3k"
   ]
  },
  {
   "cell_type": "code",
   "execution_count": 30,
   "metadata": {},
   "outputs": [],
   "source": [
    "from newspaper import Article\n",
    "import newspaper\n",
    "import dill"
   ]
  },
  {
   "cell_type": "code",
   "execution_count": 18,
   "metadata": {},
   "outputs": [],
   "source": [
    "site_urls = [\n",
    "    'http://addictinginfo.com',\n",
    "    'http://act.tv',\n",
    "    'http://www.advocate.com/',\n",
    "    'http://www.allthatsfab.com/',\n",
    "    'https://www.afj.org/'\n",
    "]"
   ]
  },
  {
   "cell_type": "code",
   "execution_count": null,
   "metadata": {},
   "outputs": [],
   "source": [
    "right_site_urls = [\n",
    "    \n",
    "]"
   ]
  },
  {
   "cell_type": "code",
   "execution_count": 19,
   "metadata": {},
   "outputs": [],
   "source": [
    "def extract_article_urls(site_url):\n",
    "    paper = newspaper.build(site_url)\n",
    "    urls = [a.url for a in paper.articles if '-' in a.url]\n",
    "    print('Extracted {} articles from site {}'.format(len(urls) ,site_url))\n",
    "    return urls"
   ]
  },
  {
   "cell_type": "code",
   "execution_count": 20,
   "metadata": {},
   "outputs": [
    {
     "name": "stdout",
     "output_type": "stream",
     "text": [
      "Extracted 0 articles from site http://addictinginfo.com\n",
      "Extracted 0 articles from site http://act.tv\n",
      "Extracted 0 articles from site http://www.advocate.com/\n",
      "Extracted 85 articles from site http://www.allthatsfab.com/\n",
      "Extracted 27 articles from site https://www.afj.org/\n"
     ]
    }
   ],
   "source": [
    "article_urls = []\n",
    "for url in site_urls:\n",
    "    article_urls += extract_article_urls(url)"
   ]
  },
  {
   "cell_type": "code",
   "execution_count": 21,
   "metadata": {},
   "outputs": [],
   "source": [
    "article_urls_store = list(article_urls)"
   ]
  },
  {
   "cell_type": "code",
   "execution_count": 128,
   "metadata": {},
   "outputs": [
    {
     "data": {
      "text/plain": [
       "'It seems like only yesterday that adjudicated fraud and alleged president Donald J. Trump was tweeting that ISIS had been defeated. Actually, that was less than four weeks ago, but you are forgiven for thinking it was yesterday, since all of Trump’s lies are really just adjuncts of the Big Lie, […]'"
      ]
     },
     "execution_count": 128,
     "metadata": {},
     "output_type": "execute_result"
    }
   ],
   "source": [
    "url = 'http://addictinginfo.com/category/news/'\n",
    "article = Article(url)\n",
    "article.download()\n",
    "article.parse()\n",
    "article.nlp()\n",
    "article.keywords\n",
    "article.text"
   ]
  },
  {
   "cell_type": "code",
   "execution_count": 22,
   "metadata": {},
   "outputs": [],
   "source": [
    "def download_article(url):\n",
    "    article = Article(url)\n",
    "    article.download()\n",
    "    article.parse()\n",
    "    article.nlp()\n",
    "    print('Downloaded article: {}'.format(article.title))\n",
    "    return {\n",
    "        'title': article.title,\n",
    "        'authors': article.authors,\n",
    "        'date': article.publish_date,\n",
    "        'text': article.text,\n",
    "        'keywords': article.keywords,\n",
    "        'summary': article.summary\n",
    "    }"
   ]
  },
  {
   "cell_type": "code",
   "execution_count": 23,
   "metadata": {},
   "outputs": [],
   "source": [
    "def scrape_articles(links, save_name):\n",
    "    articles = []\n",
    "    for url in links:\n",
    "        a = download_article(url)\n",
    "        articles.append(a)\n",
    "    with open(save_name, 'wb') as f:\n",
    "        dill.dump(articles, f)\n",
    "    print('Articles save into \"articles.pkl\"')"
   ]
  },
  {
   "cell_type": "code",
   "execution_count": 26,
   "metadata": {},
   "outputs": [],
   "source": [
    "temp = []\n",
    "for a in article_urls_store:\n",
    "    temp += a"
   ]
  },
  {
   "cell_type": "code",
   "execution_count": 28,
   "metadata": {},
   "outputs": [],
   "source": [
    "article_urls_store = temp "
   ]
  },
  {
   "cell_type": "code",
   "execution_count": 29,
   "metadata": {},
   "outputs": [
    {
     "name": "stdout",
     "output_type": "stream",
     "text": [
      "Downloaded article: Parents Punish Daughter For Bullying, Make Her Wear Thrift Store Clothes\n",
      "Downloaded article: Former Heroin Addict from West Virginia Shares Before and After Pics on Social Media\n",
      "Downloaded article: Dad Takes His Son's Girlfriend to Prom After Tragedy\n",
      "Downloaded article: Little Boy Who Grew Out Hair To Donate To Cancer Patients Gets Terrible News\n",
      "Downloaded article: Woman Has Her Own Personal 'Angel' Swoop In And Help Her When She Needed It Most\n",
      "Downloaded article: Little Boy Finds A 'Rock' For His Dad - Turns Out To Be A Priceless Gem\n",
      "Downloaded article: Baby Screams Every Time Mom Breastfeeds on Right Breast, Has Sinking Feeling Why\n",
      "Downloaded article: Waitress Floored By What Customers Left Her In Lieu Of A Tip\n",
      "Downloaded article: Man Experiencing Severe Back Pains Discovers He's Pregnant\n",
      "Downloaded article: Coffee Shop Has Interesting Pricing Tier, And It's a Hit\n",
      "Downloaded article: Shoppers Slut-Shame Woman - Mall Kicks Her Out For Wearing Tank Top And Shorts\n",
      "Downloaded article: Walmart Customer Drags Her Son Into Restroom For Alarming, Impromptu Dental Procedure\n",
      "Downloaded article: Woman Proves That Sometimes The Right Thing To Do Is Call Kids Out\n",
      "Downloaded article: Officer And Man Run To Police Cruiser After Being Attacked\n",
      "Downloaded article: 5-Year-Old Left Scarred With Horrific Burns, Mom Learns About Her New Game\n",
      "Downloaded article: Airline In Hot Water After Demanding Mother with Biracial Son Prove They Were Related\n",
      "Downloaded article: Leave Your Hotel And Call The Police If You See This In Your Room\n",
      "Downloaded article: Breastfeeding Mom Says Airline Kicked Her Off Flight, And She's Furious\n",
      "Downloaded article: Stewardess Overhears Woman Complaining About Period Cramps, Kicks Her Off Flight\n",
      "Downloaded article: Here's Why Disney Hotels Are Doing Away With 'Do Not Disturb' Signs\n",
      "Downloaded article: Passenger Says Airline Threw Her Out Of Lounge For Wearing Uggs\n",
      "Downloaded article: Donald Trump Figure Hits Disney World - People On Twitter Agree It Looks Like An Aging Chucky Doll\n",
      "Downloaded article: Vacationers Shocked To Find Hidden Cameras In Their Airbnb Room\n",
      "Downloaded article: Columnist Fat-Shames Airline Passenger, Gets Hit with Karma\n",
      "Downloaded article: Passenger Turns to Middle Eastern Man, Horrifies Plane with His Question\n",
      "Downloaded article: Man's Airbnb Reservation Canceled, Receives Shocking Message\n",
      "Downloaded article: The Devastatingly Important Reason to Take a Picture of Your Hotel Room\n",
      "Downloaded article: Foreign Countries Issue Travel Warnings: Be Extremely Cautious of US\n",
      "Downloaded article: Woman on Vacation in Mexico Sent to Jail After Police Make Unexpected Find in Bag\n",
      "Downloaded article: Woman Posts Photos of Visit to National Parks, Gets Banned From All of Them\n",
      "Downloaded article: Google Translate Update Leaves Travelers Smiling\n",
      "Downloaded article: Man’s Post About His Wife Encouraging Others To ‘Step Up’ Is Going Viral\n",
      "Downloaded article: Dad Removes Swaddle From Baby, Can’t Stop Laughing - Others Are Concerned\n",
      "Downloaded article: School Attempts to Punish Girl for Punching a Boy, Then Mother Finds Out What the Boy Did\n",
      "Downloaded article: Dad Sees Daughter's Window Is Open, Finds Her With Stranger\n",
      "Downloaded article: Student Always Sat Alone At Lunch, But This Broke His Mother's Heart\n",
      "Downloaded article: Child Protective Service Workers Gave Mother Bad Feeling - She Was Right\n",
      "Downloaded article: Mother Devastated to Learn 3-Year-Old Stands On Toilet As Part Of Lockdown Drill At School\n",
      "Downloaded article: Mother Follows Gut, Believes Son Has Medical Allergy Causing Skin To Melt\n",
      "Downloaded article: Woman and Man Meet Online, Realize They Were Preschool Sweethearts\n",
      "Downloaded article: Late, Late Show Host Brings Up Cher's Fling with Actor Tom Cruise in Hilarious Game\n",
      "Downloaded article: Woman Deals With Divorce In Creative Way - Gets Drunk, Sets Wedding Dress On Fire\n",
      "Downloaded article: Woman Had No Idea Her Boyfriend Hid An Engagement Ring In Her Necklace\n",
      "Downloaded article: Woman Has Suspicious Feeling About Husband, Tracks Phone to Last Place She'd Expect\n",
      "Downloaded article: Sofia Vergara's Husband Flashes Sweet Surprise At Star Wars Movie Premier\n",
      "Downloaded article: Three Years After Divorce, Woman Gets A Present That Brings Her Full Circle\n",
      "Downloaded article: Bride Says Vows Not Just To Groom, But To Other Startled Guests\n",
      "Downloaded article: Recuperating Sebastian The Bulldog Gets Flowers And Cute Card From \"Dad\"\n",
      "Downloaded article: Woman Browsing Instagram Sees Familiar View On Stranger's Account - Quickly Realized Husband Was Cheating\n",
      "Downloaded article: Mom Thinks She Knows Son-In-Law, So She Digs Into The Past - Finds Incredible Photo\n",
      "Downloaded article: Couple Hasn't Had Sex In 9 Years - Doctor Gives Unexpected News\n",
      "Downloaded article: Woman Eats Only KFC for 3 Years Because Of Fear Of Other Foods\n",
      "Downloaded article: Woman Warns Other After She Claims Pedicure Led To A Horrible Leg Infection\n",
      "Downloaded article: Husband Woke Up One Morning, Didn't Recognize Bride - Looking At Photos, She Should Have Seen It Coming\n",
      "Downloaded article: Brave Four-Year-Old Boy With Terminal Cancer Tells Mom He Loves Her One Last Time\n",
      "Downloaded article: Little Girl Says She Hates Herself Because She's Bald - Dad Does Amazing Thing\n",
      "Downloaded article: JFK Jr's Marriage Secret Revealed By Assistant\n",
      "Downloaded article: 6-Year-Old Forced To Urinate On Herself After Teacher Mutters 2 Words\n",
      "Downloaded article: George Clooney Comes Clean About Who's Living In His Home\n",
      "Downloaded article: Little Girl Loves Dressing Up, But There's One Thing Her Celebrity Mom Won't Let Her Do\n",
      "Downloaded article: Haters Shame Gold Medalist For Her Hair, But She Takes It Like A Champ\n",
      "Downloaded article: When Ellen DeGeneres Found Out What Mechanic Did To Gay Man's Car, She Had To Intervene\n",
      "Downloaded article: Hollywood Screen Legend Invented Technology Behind WiFi, New Documentary Says\n",
      "Downloaded article: Private Club Up In Arms Over Princess Charlotte's Presence\n",
      "Downloaded article: Gabrielle Union Reaches Out To Body-Shamed News Anchor\n",
      "Downloaded article: Models Busted Singing The N-Word Backstage At Fashion Show\n",
      "Downloaded article: Falsely Imprisoned Ohio Woman Released On Christmas After 22 Years In Prison\n",
      "Downloaded article: Chrissy Teigen Is Heartbroken After The Death Of Her Beloved Pooch\n",
      "Downloaded article: Elderly Man Is About To Get Scammed Out Of Boatload Of Cash - Then A Kind Walmart Employee Steps In\n",
      "Downloaded article: Bride Saw Her Groom Was Starting To Go Bald, Left Him At The Altar\n",
      "Downloaded article: Odd Accessory First Lady Has Chosen For Nighttime Appearances Has People Wondering\n",
      "Downloaded article: People Notice What Melania Took From Michelle Obama\n",
      "Downloaded article: Michelle Obama’s Best Fashion Moments As First Lady\n",
      "Downloaded article: People Notice Something About Photo Of Michelle Obama\n",
      "Downloaded article: Melania Trump Turns Heads At G-20 Summit With This Stunning Fashion Number\n",
      "Downloaded article: First Lady Melania Trump’s Eleven Most Fashionable Moments\n",
      "Downloaded article: Can You See What Melania Did Wrong In This Picture?\n",
      "Downloaded article: Melania Trump Center Of Attention In Gorgeous Sequined Gown At Mar-A-Lago New Year's Eve Party\n",
      "Downloaded article: Decoding Melania's Wardrobe: The Secret Message Behind The First Lady's Outfits\n",
      "Downloaded article: Melania Trump Takes A Cue From Michelle Obama, Starts Making Some Wardrobe Changes\n",
      "Downloaded article: What The First Lady's Fashion Choices Say To The World\n",
      "Downloaded article: What Do Melania And Ivanka's Clothing Reveal About Their Politics?\n",
      "Downloaded article: Victoria Beckham Would Have Zero Problem Designing Clothes For FLOTUS\n",
      "Downloaded article: POTUS Comes To Wife's Defense Over Hurricane Harvey High Heel Flap\n",
      "Downloaded article: Fashion Psychologist Weighs In On First Lady Styles, Comparing Melania Trump To Michelle Obama\n",
      "Downloaded article: AFJ in the News\n",
      "Downloaded article: Alliance for Justice Applauds H.R. 1 SCOTUS Ethics Provision\n",
      "Downloaded article: Chuck Grassley helped Trump redefine the judiciary. Now he will fend off demands to see president’s tax returns\n",
      "Downloaded article: Take Roberts Court Defense with a Grain of Salt\n",
      "Downloaded article: Senators: Avoid Softballs for Barr in Confirmation Questioning\n"
     ]
    },
    {
     "name": "stdout",
     "output_type": "stream",
     "text": [
      "Downloaded article: Bolder Advocacy: “The Connection” New Edition Is Vital Guide for Nonprofits In Election Year\n",
      "Downloaded article: AFJ in the News\n",
      "Downloaded article: Texas Judge Strikes Down Obama’s Affordable Care Act as Unconstitutional\n",
      "Downloaded article: - The Washington Post\n",
      "Downloaded article: Health Law Could Be Hard to Knock Down Despite Judge’s Ruling\n",
      "Downloaded article: Take Roberts Court Defense with a Grain of Salt\n",
      "Downloaded article: Is the Tide Finally Turning Against Forced Arbitration?\n",
      "Downloaded article: Fighting Back Against the Fine Print\n",
      "Downloaded article: Is the Tide Finally Turning Against Forced Arbitration?\n",
      "Downloaded article: Kavanaugh is unfit for Supreme Court\n",
      "Downloaded article: - The Washington Post\n",
      "Downloaded article: How the F.B.I. Will Investigate the Kavanaugh Accusations\n",
      "Downloaded article: AFJ in the News\n",
      "Downloaded article: Take Roberts Court Defense with a Grain of Salt\n",
      "Downloaded article: Senators: Avoid Softballs for Barr in Confirmation Questioning\n",
      "Downloaded article: Bolder Advocacy: “The Connection” New Edition Is Vital Guide for Nonprofits In Election Year\n",
      "Downloaded article: Alliance for Justice Applauds H.R. 1 SCOTUS Ethics Provision\n",
      "Downloaded article: Summary Review of Trump’s Mark on the Courts\n",
      "Downloaded article: Trump’s Judicial Nominees: A Threat to Our Civil Justice System\n",
      "Downloaded article: Senators: Avoid Softballs for Barr in Confirmation Questioning\n",
      "Downloaded article: Two Quarters of Economic Contraction Away from Impeachment\n",
      "Downloaded article: Two Quarters of Economic Contraction Away from Impeachment\n",
      "Articles save into \"articles.pkl\"\n"
     ]
    }
   ],
   "source": [
    "links = [\n",
    "    'http://www.bluedotdaily.com/trumps-legal-counsel-gets-caught-panics-then-starts-slamming-hillary-clinton/',\n",
    "    'http://www.bluedotdaily.com/veteran-prosecutor-blows-a-hole-in-trumps-denial-the-president-knew-a-lot/'\n",
    "]\n",
    "\n",
    "scrape_articles(article_urls_store, 'articles_right')"
   ]
  },
  {
   "cell_type": "code",
   "execution_count": 108,
   "metadata": {},
   "outputs": [
    {
     "name": "stdout",
     "output_type": "stream",
     "text": [
      "After having made some rather strange comments on CNN Wednesday evening, it appears Rudy Giuliani is attempting to do some pretty serious back-peddling.\n",
      "\n",
      "According to New York Times reporter Maggie Haberman, in a statement via Twitter, Giuliani released the following:\n",
      "\n",
      "“To clarify my comments during the Cuomo interview last evening because they have been misinterpreted I issue the following statement: I represent only President Trump, not the Trump campaign. There was no collusion by President Trump in any way, shape or form. Likewise, I have no knowledge of any collusion by any of the thousands of people who worked on the campaign.”\n",
      "\n",
      "However, he just couldn’t stop without deflecting to attack former Democratic candidate Hillary Clinton:\n"
     ]
    }
   ],
   "source": [
    "with open('articles.pkl', 'rb') as f:\n",
    "    print(dill.load(f)[0]['text'])"
   ]
  },
  {
   "cell_type": "code",
   "execution_count": null,
   "metadata": {},
   "outputs": [],
   "source": [
    "from requests_html import HTMLSession\n",
    "session = HTMLSession()\n",
    "\n",
    "r = session.get('https://mediabiasfactcheck.com/left/')\n",
    "r.html.links"
   ]
  },
  {
   "cell_type": "code",
   "execution_count": 31,
   "metadata": {},
   "outputs": [
    {
     "ename": "AttributeError",
     "evalue": "module 'numpy' has no attribute 'array'",
     "output_type": "error",
     "traceback": [
      "\u001b[0;31m---------------------------------------------------------------------------\u001b[0m",
      "\u001b[0;31mAttributeError\u001b[0m                            Traceback (most recent call last)",
      "\u001b[0;32m<ipython-input-31-6a17868889e0>\u001b[0m in \u001b[0;36m<module>\u001b[0;34m\u001b[0m\n\u001b[1;32m      1\u001b[0m \u001b[0;32mimport\u001b[0m \u001b[0mnumpy\u001b[0m \u001b[0;32mas\u001b[0m \u001b[0mnp\u001b[0m\u001b[0;34m\u001b[0m\u001b[0;34m\u001b[0m\u001b[0m\n\u001b[0;32m----> 2\u001b[0;31m \u001b[0mnp\u001b[0m\u001b[0;34m.\u001b[0m\u001b[0marray\u001b[0m\u001b[0;34m(\u001b[0m\u001b[0;34m)\u001b[0m\u001b[0;34m\u001b[0m\u001b[0;34m\u001b[0m\u001b[0m\n\u001b[0m",
      "\u001b[0;31mAttributeError\u001b[0m: module 'numpy' has no attribute 'array'"
     ]
    }
   ],
   "source": [
    "import numpy as np\n",
    "np.array()"
   ]
  }
 ],
 "metadata": {
  "kernelspec": {
   "display_name": "Python 3",
   "language": "python",
   "name": "python3"
  },
  "language_info": {
   "codemirror_mode": {
    "name": "ipython",
    "version": 3
   },
   "file_extension": ".py",
   "mimetype": "text/x-python",
   "name": "python",
   "nbconvert_exporter": "python",
   "pygments_lexer": "ipython3",
   "version": "3.7.2"
  }
 },
 "nbformat": 4,
 "nbformat_minor": 2
}
