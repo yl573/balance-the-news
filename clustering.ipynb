{
 "cells": [
  {
   "cell_type": "code",
   "execution_count": 250,
   "metadata": {},
   "outputs": [],
   "source": [
    "import gensim\n",
    "import dill\n",
    "import pandas as pd"
   ]
  },
  {
   "cell_type": "code",
   "execution_count": 331,
   "metadata": {},
   "outputs": [],
   "source": [
    "def get_data(bias):\n",
    "    with open('data/{}_articles.pkl'.format(bias), 'rb') as f:\n",
    "        data = dill.load(f)\n",
    "    text = [article['text'] for article in data]\n",
    "    kws = [article['keywords'] for article in data]\n",
    "    titles = [article['title'] for article in data]\n",
    "    dates = [article['date'] for article in data]\n",
    "    links = [article['date'] for article in data]\n",
    "    df = pd.DataFrame.from_dict({'title': titles, 'text': text, 'date': dates})\n",
    "    df = df.drop_duplicates('title')\n",
    "    df = df[df['text'].str.len() > 500]\n",
    "    df = df.reset_index()\n",
    "    return df"
   ]
  },
  {
   "cell_type": "code",
   "execution_count": 332,
   "metadata": {},
   "outputs": [],
   "source": [
    "import gensim\n",
    "from gensim.utils import simple_preprocess\n",
    "from gensim.parsing.preprocessing import STOPWORDS\n",
    "from nltk.stem import WordNetLemmatizer, SnowballStemmer\n",
    "from nltk.stem.porter import *\n",
    "import numpy as np\n",
    "np.random.seed(2018)\n",
    "import nltk"
   ]
  },
  {
   "cell_type": "code",
   "execution_count": 333,
   "metadata": {},
   "outputs": [],
   "source": [
    "stemmer = SnowballStemmer('english')\n",
    "def lemmatize_stemming(text):\n",
    "    return stemmer.stem(WordNetLemmatizer().lemmatize(text, pos='v'))\n",
    "\n",
    "def preprocess(text):\n",
    "    result = []\n",
    "    for token in gensim.utils.simple_preprocess(text):\n",
    "        if token not in gensim.parsing.preprocessing.STOPWORDS and len(token) > 3:\n",
    "            result.append(lemmatize_stemming(token))\n",
    "    return result"
   ]
  },
  {
   "cell_type": "code",
   "execution_count": 334,
   "metadata": {},
   "outputs": [],
   "source": [
    "data = get_data('right')\n",
    "processed_text = data['text'].map(preprocess)"
   ]
  },
  {
   "cell_type": "code",
   "execution_count": 335,
   "metadata": {},
   "outputs": [],
   "source": [
    "dictionary = gensim.corpora.Dictionary(processed_text)\n",
    "# dictionary.filter_extremes(no_below=1, no_above=0.5, keep_n=100000)\n",
    "bow_corpus = [dictionary.doc2bow(text) for text in processed_text]"
   ]
  },
  {
   "cell_type": "code",
   "execution_count": 352,
   "metadata": {},
   "outputs": [
    {
     "data": {
      "text/plain": [
       "14561"
      ]
     },
     "execution_count": 352,
     "metadata": {},
     "output_type": "execute_result"
    }
   ],
   "source": [
    "len(dictionary)"
   ]
  },
  {
   "cell_type": "code",
   "execution_count": 336,
   "metadata": {},
   "outputs": [],
   "source": [
    "from gensim import corpora, models\n",
    "\n",
    "tfidf = models.TfidfModel(bow_corpus)\n",
    "\n",
    "text_vectors = np.zeros((len(bow_corpus), len(dictionary)))\n",
    "for i in range(len(bow_corpus)):\n",
    "    vec = tfidf[bow_corpus[i]]\n",
    "    for word, weight in vec:\n",
    "        text_vectors[i][word] = weight"
   ]
  },
  {
   "cell_type": "code",
   "execution_count": 351,
   "metadata": {},
   "outputs": [
    {
     "name": "stdout",
     "output_type": "stream",
     "text": [
      "Min diff:  10.901514942185178\n",
      "Title:  IHop Employee Shoots and Kills Active Shooter at Restaurant \n",
      "\n",
      "Text:  Two people, including a suspected active shooter are dead following a fatal altercation at a Huntsville, Alabama IHOP restaurant earlier this week. The armed employee who drew his own firearm to stop the shooting was also wounded in the shootout. Police are new releasing more details about the incident.\n",
      "\n",
      "[Scroll Down For Video]\n",
      "\n",
      "“We have crime scene investigators and our major crimes unit is here,” Lt. Michael Johnson said Wednesday night. “Right now we have witnesses writing out statements and talking with multiple investigators. We have a lot of moving parts right now. There are people who are emotional. We just need a little time to piece this together.”\n",
      "\n",
      "According to a local media report:\n",
      "\n",
      "Police say the incident began as a dispute related to restaurant service. Investigators say that [customer Roderick Turner, 25] was at the restaurant to pick up a to-go order when he became disruptive and loud regarding the service. Police said a verbal altercation turned physical with an employee of the restaurant.\n",
      "\n",
      "Police say after the fight, Turner had a gun and began firing at employees, shooting Roy Brown and the unnamed employee. Police say that unnamed employee had a handgun and he shot Turner in self-defense of others.\n",
      "\n",
      "Roy Brown (pictured below) was the IHOP employee who was killed in the incident.\n",
      "\n",
      "A friend of Turner’s (pictured below) told WHNT, “Please let people know he was a loving, caring person with a big heart. He was battling something he didn’t know how to deal with. I only wish we could’ve given him the help he really needed.”\n",
      "\n",
      "Local media covered the incident in the following video: \n",
      "\n",
      "\n",
      "Title:  5 Shot, 3 Killed After Houston Homeowner Opens Fire On Suspects During Apparent Home Invasion \n",
      "\n",
      "Text:  Taxpayer relief shot x 3.\n",
      "\n",
      "Via ABC 7:\n",
      "\n",
      "Authorities are investigating after dozens of shots were fired in east Houston.\n",
      "\n",
      "According to a detective, the incident began as a home invasion at the 7000 block of Sherman.\n",
      "\n",
      "Authorities say the homeowner defended himself when the suspects entered the home. Following the shooting, the suspects fled from the scene.\n",
      "\n",
      "Police have set up a perimeter stretching from Harrisburg to Sherman to Capitol, along 71st Street.\n",
      "\n",
      "At another scene, a vehicle was found about two blocks from the shooting, where a man was found dead in the backseat.\n",
      "\n",
      "Authorities say that out of five people shot, three of them died. All were suspects in the alleged home invasion.\n",
      "\n",
      "Keep reading…\n",
      "4\n"
     ]
    }
   ],
   "source": [
    "query_idx = 500\n",
    "vec = text_vectors[query_idx,:]\n",
    "\n",
    "diff = np.sum(np.abs(text_vectors - vec),axis=1)\n",
    "recommend_idx = np.argsort(diff)[1]\n",
    "\n",
    "print('Min diff: ', diff[recommend_idx])\n",
    "\n",
    "print('Title: ', data.loc[query_idx]['title'], '\\n')\n",
    "print('Text: ', data.loc[query_idx]['text'], '\\n\\n')\n",
    "# print('Date: ', data.loc[query_idx]['date'], '\\n')\n",
    "print('Title: ', data.loc[recommend_idx]['title'], '\\n')\n",
    "print('Text: ', data.loc[recommend_idx]['text'])\n",
    "print(recommend_idx)"
   ]
  },
  {
   "cell_type": "code",
   "execution_count": null,
   "metadata": {},
   "outputs": [],
   "source": []
  },
  {
   "cell_type": "code",
   "execution_count": 257,
   "metadata": {},
   "outputs": [
    {
     "name": "stdout",
     "output_type": "stream",
     "text": [
      "Topic: 0 \n",
      "Words: 0.009*\"say\" + 0.009*\"peopl\" + 0.008*\"like\" + 0.006*\"year\" + 0.006*\"school\" + 0.006*\"work\" + 0.005*\"time\" + 0.005*\"think\" + 0.005*\"know\" + 0.004*\"go\"\n",
      "Topic: 1 \n",
      "Words: 0.006*\"say\" + 0.006*\"peopl\" + 0.005*\"like\" + 0.004*\"year\" + 0.003*\"kelli\" + 0.003*\"women\" + 0.003*\"know\" + 0.003*\"go\" + 0.003*\"moon\" + 0.003*\"cooki\"\n",
      "Topic: 2 \n",
      "Words: 0.007*\"world\" + 0.007*\"nowthi\" + 0.006*\"report\" + 0.005*\"prison\" + 0.005*\"time\" + 0.005*\"like\" + 0.004*\"trump\" + 0.004*\"peopl\" + 0.004*\"say\" + 0.004*\"year\"\n",
      "Topic: 3 \n",
      "Words: 0.009*\"peopl\" + 0.008*\"white\" + 0.006*\"black\" + 0.005*\"worker\" + 0.005*\"like\" + 0.005*\"state\" + 0.005*\"time\" + 0.005*\"year\" + 0.005*\"come\" + 0.004*\"ident\"\n",
      "Topic: 4 \n",
      "Words: 0.009*\"say\" + 0.008*\"like\" + 0.006*\"trump\" + 0.005*\"go\" + 0.005*\"time\" + 0.005*\"year\" + 0.005*\"warren\" + 0.004*\"women\" + 0.004*\"know\" + 0.004*\"tucker\"\n",
      "Topic: 5 \n",
      "Words: 0.006*\"hitler\" + 0.006*\"babi\" + 0.004*\"shapiro\" + 0.004*\"say\" + 0.003*\"januari\" + 0.003*\"child\" + 0.003*\"violenc\" + 0.003*\"leg\" + 0.003*\"peopl\" + 0.003*\"come\"\n",
      "Topic: 6 \n",
      "Words: 0.009*\"say\" + 0.008*\"peopl\" + 0.007*\"american\" + 0.006*\"nativ\" + 0.006*\"march\" + 0.006*\"student\" + 0.006*\"phillip\" + 0.005*\"school\" + 0.004*\"video\" + 0.004*\"time\"\n",
      "Topic: 7 \n",
      "Words: 0.024*\"trump\" + 0.011*\"presid\" + 0.008*\"say\" + 0.008*\"govern\" + 0.007*\"border\" + 0.007*\"democrat\" + 0.007*\"report\" + 0.007*\"wall\" + 0.006*\"hous\" + 0.006*\"shutdown\"\n",
      "Topic: 8 \n",
      "Words: 0.012*\"march\" + 0.012*\"women\" + 0.011*\"say\" + 0.008*\"peopl\" + 0.007*\"year\" + 0.005*\"climat\" + 0.004*\"group\" + 0.004*\"organ\" + 0.004*\"protest\" + 0.004*\"time\"\n",
      "Topic: 9 \n",
      "Words: 0.008*\"say\" + 0.006*\"black\" + 0.006*\"write\" + 0.006*\"year\" + 0.006*\"like\" + 0.005*\"time\" + 0.004*\"stori\" + 0.004*\"peopl\" + 0.004*\"live\" + 0.003*\"think\"\n"
     ]
    }
   ],
   "source": [
    "lda_model = gensim.models.LdaMulticore(bow_corpus, num_topics=10, id2word=dictionary, passes=5, workers=2)\n",
    "for idx, topic in lda_model.print_topics(-1):\n",
    "    print('Topic: {} \\nWords: {}'.format(idx, topic))"
   ]
  },
  {
   "cell_type": "code",
   "execution_count": 262,
   "metadata": {},
   "outputs": [],
   "source": [
    "text_vectors = np.zeros((len(bow_corpus), 10))\n",
    "for i in range(len(bow_corpus)):\n",
    "    tps = lda_model.get_document_topics(bow_corpus[i])\n",
    "    for topic, weight in tps:\n",
    "        text_vectors[i][topic] = weight"
   ]
  },
  {
   "cell_type": "code",
   "execution_count": 273,
   "metadata": {},
   "outputs": [
    {
     "name": "stdout",
     "output_type": "stream",
     "text": [
      "Title:  Can the U.S. Reinstate “Maximum Pressure” on North Korea? \n",
      "\n",
      "Date:  2018-12-04 00:00:00 \n",
      "\n",
      "Text:  The diplomatic sprint to North Korean denuclearization has slowed to a crawl. Earlier last month, North Korea abruptly canceled talks with U.S. Secretary of State Mike Pompeo, with reports suggesting that Pyongyang continues to enhance its nuclear and missile capabilities. Despite U.S. President Donald Trump’s insistence that North Korean leader Kim Jong Un is serious about giving up his nuclear weapons, chances are good that the United States is going to need a Plan B to manage the nuclear threat.\n",
      "\n",
      "Unfortunately, the air had already been leaking out of the Trump administration’s “maximum pressure” strategy since early to mid-2018. Worse still, it will likely prove extremely difficult to revive international efforts to squeeze North Korea if the current diplomatic push hits a dead end. Key countries that were supportive of the pressure campaign—most notably China and South Korea—are intent on mending ties with Pyongyang, which for now has ceased the type of provocations that could unite the world against it. Meanwhile, Trump’s lavish praise of Kim has further impeded the United States’ ability to rally foreign partners to pressure the North.\n",
      "\n",
      "If current trends continue, any attempt to reinstate maximum pressure may well prove ineffective. The hard collapse of diplomacy could dangerously narrow U.S. policy options and make military conflict more likely.\n",
      "\n",
      "A THREE-PRONGED STRATEGY\n",
      "\n",
      "The North Korea maximum-pressure strategy rested on three pillars that, as of early 2018, were effectively squeezing the North Korean regime. The first was a series of United Nations Security Council Resolutions in 2017 that banned North Korea’s most lucrative exports, including coal, iron ore, seafood, and textiles. This meant that about 90 percent of North Korean exports—which stood to net the regime about $2.7 billion—were now illegal. These resolutions also reduced the North’s most critical import—oil—and laid the legal foundations to cut off various North Korean workarounds, such as at-sea transfers of illicit cargo from one ship to another (known as “ship-to-ship” transfers). For the first time, world\n"
     ]
    },
    {
     "data": {
      "text/plain": [
       "datetime.datetime(2018, 12, 4, 0, 0)"
      ]
     },
     "execution_count": 273,
     "metadata": {},
     "output_type": "execute_result"
    }
   ],
   "source": [
    "query_idx = 120\n",
    "vec = text_vectors[query_idx,:]\n",
    "\n",
    "diff = np.sum(np.abs(text_vectors - vec),axis=1)\n",
    "recommend_idx = np.argsort(diff)[1]\n",
    "\n",
    "print('Title: ', data.loc[query_idx]['title'], '\\n')\n",
    "print('Date: ', data.loc[query_idx]['date'], '\\n')\n",
    "print('Text: ', data.loc[query_idx]['text'])\n",
    "data.loc[query_idx]['date']"
   ]
  },
  {
   "cell_type": "code",
   "execution_count": 274,
   "metadata": {},
   "outputs": [
    {
     "name": "stdout",
     "output_type": "stream",
     "text": [
      "128\n",
      "Title:  News You Can Choose: Iowa Bar Cancels MLK-Themed Keg Party \n",
      "\n",
      "Date:  None \n",
      "\n",
      "Text:  Screenshot: Twitter\n",
      "\n",
      "Note: To read the story of how an Iowa bar callously disrespected the legacy and the name of Martin Luther King Jr., please read the plain type. To read the story about how an Iowa bar came to its senses and apologized for its offensive, racist actions, follow the story in bold type.\n",
      "\n",
      "\n",
      "\n",
      "As America celebrates the birth of one of its greatest civil rights icons, an Iowa bar decided it was a perfectly good idea to name a huge beer bash after Martin Luther King Jr, only reconsidering after considerable public outcry, proving that White America continues one of this country’s oldest traditions: “Trying it.”\n",
      "\n",
      "As America celebrates the birth of one of its greatest civil rights icons, public outcry forced an Iowa bar to cancel a huge beer bash named after Martin Luther King Jr., proving that this country has made strides towards racial progress.\n",
      "\n",
      "Cedar Falls, Iowa is one of the whitest places on earth. In 2018, Wall Street 24/7 named Cedar Falls as the worst city in America for African Americans. Its population is 91.3 percent white and 2.3 percent black (His name is Jerome and he’s “one of the good ones”). The black unemployment rate in the Cedar Falls-Waterloo area is 5 times the unemployment rates for whites. In 2016 someone spray-painted“Black Lives Matter” on a building on the University of Northern Iowa’s campus and no one was arrested, even though they probably knew who did it (We won’t snitch on you, Jerome).\n",
      "\n",
      "\n",
      "\n",
      "Cedar Falls, Iowa is a progressive city and home to one of Iowa’s three public universities, the University of Northern Iowa. Because Cedar Falls has no need for black barbershops or seasoning stores, local watering holes like Deringer’s Public Parlor, a “true country bar,” offer a diverse range of entertainment options including a dude named Matt, that lady named Sierra Ann and, of course, everyone’s favorite, the Thrillbillies. While The Root couldn’t find a black face in the nearly 1,000 photos on Deringer’s Facebook page, we spoke to Jerome and he assured us that he has actually been to the bar. (To be fair, he was looking for the Seasoning Depot.)\n",
      "\n",
      "Advertisement\n",
      "\n",
      "One of Deringer’s most popular events (you should probably sit down for this one) is the annual beerfest held during the King Holiday weekend called “MLKegs.” Although the name might sound like an insult to the legacy of Martin Luther King Jr., Deringer’s probably figured: “So fucking what? It’s not like Jerome comes here anyway.” The event was well known in the Cedar Falls and University of Northern Iowa community as a day when white people whited as white as their whiteness allowed them to white.\n",
      "\n",
      "One of Deringer’s most popular events (you should probably sit down for this one) is the annual beerfest held during the King Holiday weekend, which Deringer’s named MLKegs, not aware of the fact that it could be misconstrued as an insult to the legacy of Martin Luther King Jr. They even had their own Twitter account with 200 followers (I know what you’re wondering. No, Jerome wasn’t one of them)\n",
      "\n",
      "Advertisement\n",
      "\n",
      "Screenshot: Twitter\n",
      "\n",
      "Needless to say, Cedar Falls’ black community, including the students at UNI, were not too pleased with MLKegs day.\n",
      "\n",
      "Advertisement\n",
      "\n",
      "Well, a local activist who goes by the name of “Liberty Belle” noticed the Twitter feed and party announcements and decided to call the Wypipo watering hole out on what the civil rights activists of King’s era would probably describe as “fuckshit.”\n",
      "\n",
      "Advertisement\n",
      "\n",
      "Photo: Facebook\n",
      "\n",
      "And as you can see, Liberty Belle was not black, but she refused to accept Deringer’s whitesplaining of its racist tradition.\n",
      "\n",
      "Screenshot: Facebook\n",
      "\n",
      "Advertisement\n",
      "\n",
      "And guess what?\n",
      "\n",
      "And guess what?\n",
      "\n",
      "Afraid of how the negative media coverage and backlash might hurt its revenue, Deringer’s backed down!\n",
      "\n",
      "Advertisement\n",
      "\n",
      "Reflecting on how its use of one of America’s greatest heroes to sell beer might be a little unsavory and kinda racist, Deringer’s backed down! Well... kinda. They just changed the name of the party:\n",
      "\n",
      "Screenshot: Facebook\n",
      "\n",
      "Advertisement\n",
      "\n",
      "So, what does this prove?\n",
      "\n",
      "Well, one of the reasons why racism persists is that white people refuse to speak up when blatant acts of discrimination occur. By definition, racists don’t give a fuck about black people. But the scorn, ridicule and possible financial penalties imposed by their fellow white might possibly serve as a deterrent.\n",
      "\n",
      "Liberty Belle wasn’t acting as an “ally.” She was acting as a decent human being. That’s all anyone should ever ask.\n",
      "\n",
      "Advertisement\n",
      "\n",
      "And what does this prove?\n",
      "\n",
      "In the 2018th year of our Lord and Savior Lupita Nyongo, there are still some white people who don’t know (or pretended not to understand) that holding an event like MLKegs was wrong until they were threatened. To be fair, Deringer’s management probably doesn’t hate black people or the MLK holiday. It is believable that the bar had “no attention of offending anyone” because the reality is: They probably weren’t trying to be mean to black people...\n",
      "\n",
      "They just don’t give a fuck about black people.\n",
      "\n",
      "That’s racism too. Anyone who even pretended to care about black people would have seen how insulting MLKegs was in the first place. But it’s like Martin Luther King, Jr. said when they threw rocks at marchers. Or maybe it was when they put him in a Birmingham jail cell...Or perhaps it was when he was stabbed in the heart:\n",
      "\n",
      "“They keep trying it.”\n"
     ]
    }
   ],
   "source": [
    "print(recommend_idx)\n",
    "print('Title: ', data.loc[recommend_idx]['title'], '\\n')\n",
    "print('Date: ', data.loc[recommend_idx]['date'], '\\n')\n",
    "print('Text: ', data.loc[recommend_idx]['text'])"
   ]
  }
 ],
 "metadata": {
  "kernelspec": {
   "display_name": "Python 3",
   "language": "python",
   "name": "python3"
  },
  "language_info": {
   "codemirror_mode": {
    "name": "ipython",
    "version": 3
   },
   "file_extension": ".py",
   "mimetype": "text/x-python",
   "name": "python",
   "nbconvert_exporter": "python",
   "pygments_lexer": "ipython3",
   "version": "3.7.2"
  }
 },
 "nbformat": 4,
 "nbformat_minor": 2
}
